{
 "cells": [
  {
   "cell_type": "markdown",
   "metadata": {},
   "source": [
    "# Trabajo Práctico 1"
   ]
  },
  {
   "cell_type": "markdown",
   "metadata": {},
   "source": [
    "Para esta primera entrega buscaremos generar un primer acercamiento a la base de datos con la que contamos.\n",
    "\n",
    "Por un lado, veremos qué métodos podemos implementar para una primera visualización del contenido de nuestros datos, trabajar las características generales, pero también similitudes y diferencias entre los dos tipos de foros, entre posteos y comentarios, etc.\n",
    "\n",
    "Posibles entradas a la base:\n",
    "\n",
    "- Cantidad de caracteres/palabras\n",
    "- Temporalidad de publicaciones y comentarios\n",
    "- Cantidad de usuarios y nivel de actividad\n",
    "- Términos frecuentes\n",
    "\n",
    "Estas tareas nos ayudarán a comprender mejor el dataset con el que contamos, detectar situaciones que ameriten trabajos de curación, e imaginar fortalezas y obstáculos para futuras tareas de clasificación o clustering.\n"
   ]
  },
  {
   "cell_type": "markdown",
   "metadata": {},
   "source": [
    "### Cargando el dataset:"
   ]
  },
  {
   "cell_type": "code",
   "execution_count": 29,
   "metadata": {},
   "outputs": [],
   "source": [
    "import pandas as pd\n",
    "import matplotlib.pyplot as plt\n",
    "import spacy\n",
    "import re"
   ]
  },
  {
   "cell_type": "code",
   "execution_count": 12,
   "metadata": {},
   "outputs": [
    {
     "data": {
      "text/plain": [
       "3147"
      ]
     },
     "execution_count": 12,
     "metadata": {},
     "output_type": "execute_result"
    }
   ],
   "source": [
    "url = 'https://raw.githubusercontent.com/patriciof3/mentoria13_famaf_2024/main/df_reddit_mentoria.csv'\n",
    "\n",
    "df = pd.read_csv(url)\n",
    "\n",
    "len(df)"
   ]
  },
  {
   "cell_type": "code",
   "execution_count": 16,
   "metadata": {},
   "outputs": [
    {
     "data": {
      "text/html": [
       "<div>\n",
       "<style scoped>\n",
       "    .dataframe tbody tr th:only-of-type {\n",
       "        vertical-align: middle;\n",
       "    }\n",
       "\n",
       "    .dataframe tbody tr th {\n",
       "        vertical-align: top;\n",
       "    }\n",
       "\n",
       "    .dataframe thead th {\n",
       "        text-align: right;\n",
       "    }\n",
       "</style>\n",
       "<table border=\"1\" class=\"dataframe\">\n",
       "  <thead>\n",
       "    <tr style=\"text-align: right;\">\n",
       "      <th></th>\n",
       "      <th>subreddit</th>\n",
       "      <th>created_utc</th>\n",
       "      <th>title_post</th>\n",
       "      <th>content</th>\n",
       "      <th>permalink</th>\n",
       "      <th>author</th>\n",
       "      <th>num_comments</th>\n",
       "      <th>id</th>\n",
       "      <th>type</th>\n",
       "      <th>is_submitter</th>\n",
       "      <th>score</th>\n",
       "    </tr>\n",
       "  </thead>\n",
       "  <tbody>\n",
       "    <tr>\n",
       "      <th>0</th>\n",
       "      <td>ansiedad</td>\n",
       "      <td>2020-07-09 03:30:23</td>\n",
       "      <td>r/ansiedad Lounge</td>\n",
       "      <td>A place for members of r/ansiedad to chat with...</td>\n",
       "      <td>/r/ansiedad/comments/hny6f1/ransiedad_lounge/</td>\n",
       "      <td>Doxastico</td>\n",
       "      <td>0.0</td>\n",
       "      <td>hny6f1</td>\n",
       "      <td>post</td>\n",
       "      <td>NaN</td>\n",
       "      <td>NaN</td>\n",
       "    </tr>\n",
       "    <tr>\n",
       "      <th>1</th>\n",
       "      <td>ansiedad</td>\n",
       "      <td>2020-07-09 21:05:12</td>\n",
       "      <td>UNA GUÍA PARA CALMAR TU ANSIEDAD 😌🙇‍♂️</td>\n",
       "      <td>NaN</td>\n",
       "      <td>/r/ansiedad/comments/hoeibx/una_guía_para_calm...</td>\n",
       "      <td>YouTubeChevereIdioma</td>\n",
       "      <td>1.0</td>\n",
       "      <td>hoeibx</td>\n",
       "      <td>post</td>\n",
       "      <td>NaN</td>\n",
       "      <td>NaN</td>\n",
       "    </tr>\n",
       "    <tr>\n",
       "      <th>2</th>\n",
       "      <td>ansiedad</td>\n",
       "      <td>2020-10-19 19:13:08</td>\n",
       "      <td>Tip para controlar la ansiedad</td>\n",
       "      <td>Hola comunidad de internet.Paso para dejar un ...</td>\n",
       "      <td>/r/ansiedad/comments/jec5c5/tip_para_controlar...</td>\n",
       "      <td>psiconnect</td>\n",
       "      <td>0.0</td>\n",
       "      <td>jec5c5</td>\n",
       "      <td>post</td>\n",
       "      <td>NaN</td>\n",
       "      <td>NaN</td>\n",
       "    </tr>\n",
       "    <tr>\n",
       "      <th>3</th>\n",
       "      <td>ansiedad</td>\n",
       "      <td>2020-12-11 14:43:55</td>\n",
       "      <td>Recurso de psicología: Manual de propósitos 2021</td>\n",
       "      <td>Hace poco encontré este recurso navegando por ...</td>\n",
       "      <td>/r/ansiedad/comments/kb7fgp/recurso_de_psicolo...</td>\n",
       "      <td>juanxo7182</td>\n",
       "      <td>0.0</td>\n",
       "      <td>kb7fgp</td>\n",
       "      <td>post</td>\n",
       "      <td>NaN</td>\n",
       "      <td>NaN</td>\n",
       "    </tr>\n",
       "    <tr>\n",
       "      <th>4</th>\n",
       "      <td>ansiedad</td>\n",
       "      <td>2021-01-16 08:19:37</td>\n",
       "      <td>Ansiedad por sueños</td>\n",
       "      <td>[removed]</td>\n",
       "      <td>/r/ansiedad/comments/kyh8yc/ansiedad_por_sueños/</td>\n",
       "      <td>Xbenzs</td>\n",
       "      <td>0.0</td>\n",
       "      <td>kyh8yc</td>\n",
       "      <td>post</td>\n",
       "      <td>NaN</td>\n",
       "      <td>NaN</td>\n",
       "    </tr>\n",
       "  </tbody>\n",
       "</table>\n",
       "</div>"
      ],
      "text/plain": [
       "  subreddit          created_utc  \\\n",
       "0  ansiedad  2020-07-09 03:30:23   \n",
       "1  ansiedad  2020-07-09 21:05:12   \n",
       "2  ansiedad  2020-10-19 19:13:08   \n",
       "3  ansiedad  2020-12-11 14:43:55   \n",
       "4  ansiedad  2021-01-16 08:19:37   \n",
       "\n",
       "                                         title_post  \\\n",
       "0                                 r/ansiedad Lounge   \n",
       "1            UNA GUÍA PARA CALMAR TU ANSIEDAD 😌🙇‍♂️   \n",
       "2                    Tip para controlar la ansiedad   \n",
       "3  Recurso de psicología: Manual de propósitos 2021   \n",
       "4                               Ansiedad por sueños   \n",
       "\n",
       "                                             content  \\\n",
       "0  A place for members of r/ansiedad to chat with...   \n",
       "1                                                NaN   \n",
       "2  Hola comunidad de internet.Paso para dejar un ...   \n",
       "3  Hace poco encontré este recurso navegando por ...   \n",
       "4                                          [removed]   \n",
       "\n",
       "                                           permalink                author  \\\n",
       "0      /r/ansiedad/comments/hny6f1/ransiedad_lounge/             Doxastico   \n",
       "1  /r/ansiedad/comments/hoeibx/una_guía_para_calm...  YouTubeChevereIdioma   \n",
       "2  /r/ansiedad/comments/jec5c5/tip_para_controlar...            psiconnect   \n",
       "3  /r/ansiedad/comments/kb7fgp/recurso_de_psicolo...            juanxo7182   \n",
       "4   /r/ansiedad/comments/kyh8yc/ansiedad_por_sueños/                Xbenzs   \n",
       "\n",
       "   num_comments      id  type is_submitter  score  \n",
       "0           0.0  hny6f1  post          NaN    NaN  \n",
       "1           1.0  hoeibx  post          NaN    NaN  \n",
       "2           0.0  jec5c5  post          NaN    NaN  \n",
       "3           0.0  kb7fgp  post          NaN    NaN  \n",
       "4           0.0  kyh8yc  post          NaN    NaN  "
      ]
     },
     "execution_count": 16,
     "metadata": {},
     "output_type": "execute_result"
    }
   ],
   "source": [
    "df.head(5)"
   ]
  },
  {
   "cell_type": "markdown",
   "metadata": {},
   "source": [
    "### Temporalidad"
   ]
  },
  {
   "cell_type": "code",
   "execution_count": 20,
   "metadata": {},
   "outputs": [
    {
     "data": {
      "text/plain": [
       "<AxesSubplot:title={'center':'Frecuencia de entradas - r/ansiedad'}, xlabel='date'>"
      ]
     },
     "execution_count": 20,
     "metadata": {},
     "output_type": "execute_result"
    },
    {
     "data": {
      "image/png": "[encoded data removed]",
      "text/plain": [
       "<Figure size 640x480 with 1 Axes>"
      ]
     },
     "metadata": {},
     "output_type": "display_data"
    }
   ],
   "source": [
    "# Temporalidad\n",
    "df[\"date\"] = df[\"created_utc\"].astype(\"datetime64\")\n",
    "\n",
    "df[\"content\"][df[\"subreddit\"] == \"ansiedad\"].groupby(df[\"date\"].dt.year).count().plot(kind=\"bar\", legend=False, title=\"Frecuencia de entradas - r/ansiedad\")"
   ]
  },
  {
   "cell_type": "markdown",
   "metadata": {},
   "source": [
    "### Caracteres"
   ]
  },
  {
   "cell_type": "code",
   "execution_count": 33,
   "metadata": {},
   "outputs": [
    {
     "data": {
      "text/html": [
       "<div>\n",
       "<style scoped>\n",
       "    .dataframe tbody tr th:only-of-type {\n",
       "        vertical-align: middle;\n",
       "    }\n",
       "\n",
       "    .dataframe tbody tr th {\n",
       "        vertical-align: top;\n",
       "    }\n",
       "\n",
       "    .dataframe thead th {\n",
       "        text-align: right;\n",
       "    }\n",
       "</style>\n",
       "<table border=\"1\" class=\"dataframe\">\n",
       "  <thead>\n",
       "    <tr style=\"text-align: right;\">\n",
       "      <th></th>\n",
       "      <th>content</th>\n",
       "      <th>characters</th>\n",
       "    </tr>\n",
       "  </thead>\n",
       "  <tbody>\n",
       "    <tr>\n",
       "      <th>0</th>\n",
       "      <td>A place for members of r/ansiedad to chat with...</td>\n",
       "      <td>57.0</td>\n",
       "    </tr>\n",
       "    <tr>\n",
       "      <th>1</th>\n",
       "      <td>NaN</td>\n",
       "      <td>NaN</td>\n",
       "    </tr>\n",
       "    <tr>\n",
       "      <th>2</th>\n",
       "      <td>Hola comunidad de internet.Paso para dejar un ...</td>\n",
       "      <td>996.0</td>\n",
       "    </tr>\n",
       "    <tr>\n",
       "      <th>3</th>\n",
       "      <td>Hace poco encontré este recurso navegando por ...</td>\n",
       "      <td>646.0</td>\n",
       "    </tr>\n",
       "    <tr>\n",
       "      <th>4</th>\n",
       "      <td>[removed]</td>\n",
       "      <td>9.0</td>\n",
       "    </tr>\n",
       "  </tbody>\n",
       "</table>\n",
       "</div>"
      ],
      "text/plain": [
       "                                             content  characters\n",
       "0  A place for members of r/ansiedad to chat with...        57.0\n",
       "1                                                NaN         NaN\n",
       "2  Hola comunidad de internet.Paso para dejar un ...       996.0\n",
       "3  Hace poco encontré este recurso navegando por ...       646.0\n",
       "4                                          [removed]         9.0"
      ]
     },
     "execution_count": 33,
     "metadata": {},
     "output_type": "execute_result"
    }
   ],
   "source": [
    "# crear columna con cantidad de caracteres de cada entrada\n",
    "\n",
    "df['characters'] = df['content'].str.len()\n",
    "\n",
    "df[[\"content\", \"characters\"]].head(5)"
   ]
  },
  {
   "cell_type": "markdown",
   "metadata": {},
   "source": [
    "### Frecuencia de Términos"
   ]
  },
  {
   "cell_type": "code",
   "execution_count": 30,
   "metadata": {},
   "outputs": [],
   "source": [
    "# convertir contenido en minúsculas, dar formato string y eliminar caracteres especiales\n",
    "df['cleaned_content'] = df['content'].str.lower()\n",
    "\n",
    "df['cleaned_content'] = df['cleaned_content'].astype('str') \n",
    "\n",
    "df['cleaned_content'] = df['cleaned_content'].apply(lambda x: re.sub(r'[^a-zA-Z\\sáéíóúüñÁÉÍÓÚÜÑ]', '', x))"
   ]
  },
  {
   "cell_type": "code",
   "execution_count": 31,
   "metadata": {},
   "outputs": [],
   "source": [
    "# cargar modelo de español de spacy\n",
    "nlp = spacy.load(\"es_core_news_sm\")\n",
    "\n",
    "# definir stop words\n",
    "stop_words = spacy.lang.es.stop_words.STOP_WORDS\n",
    "\n",
    "def preprocess_text(text):\n",
    "    doc = nlp(text)\n",
    "    tokens = [token.text for token in doc if token.text.lower() not in stop_words]\n",
    "    return ' '.join(tokens)\n",
    "\n",
    "\n",
    "df['cleaned_content'] = df['cleaned_content'].apply(preprocess_text)"
   ]
  },
  {
   "cell_type": "code",
   "execution_count": 32,
   "metadata": {},
   "outputs": [
    {
     "data": {
      "text/plain": [
       "<Figure size 1000x600 with 0 Axes>"
      ]
     },
     "metadata": {},
     "output_type": "display_data"
    },
    {
     "data": {
      "image/png": "[encoded data removed]",
      "text/plain": [
       "<Figure size 640x480 with 1 Axes>"
      ]
     },
     "metadata": {},
     "output_type": "display_data"
    }
   ],
   "source": [
    "# Frecuencia de términos\n",
    "word_freq = pd.Series(' '.join(df['cleaned_content']).split()).value_counts()\n",
    "a = pd.DataFrame(word_freq).head(20)\n",
    "\n",
    "plt.figure(figsize=(10, 6))\n",
    "a.plot(kind='bar', color='skyblue', legend=False)\n",
    "plt.title('Términos más frecuentes (General)')\n",
    "plt.xlabel('Términos')\n",
    "plt.ylabel('Recuento')\n",
    "plt.xticks(rotation=45, ha='right')\n",
    "plt.tight_layout()\n",
    "plt.show()"
   ]
  },
  {
   "cell_type": "markdown",
   "metadata": {},
   "source": []
  }
 ],
 "metadata": {
  "kernelspec": {
   "display_name": "base",
   "language": "python",
   "name": "python3"
  },
  "language_info": {
   "codemirror_mode": {
    "name": "ipython",
    "version": 3
   },
   "file_extension": ".py",
   "mimetype": "text/x-python",
   "name": "python",
   "nbconvert_exporter": "python",
   "pygments_lexer": "ipython3",
   "version": "3.9.13"
  }
 },
 "nbformat": 4,
 "nbformat_minor": 2
}
