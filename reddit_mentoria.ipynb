{
 "cells": [
  {
   "cell_type": "code",
   "execution_count": 1,
   "metadata": {},
   "outputs": [],
   "source": [
    "import pandas as pd\n",
    "from datetime import datetime"
   ]
  },
  {
   "cell_type": "code",
   "execution_count": 2,
   "metadata": {},
   "outputs": [],
   "source": [
    "#JSON reading\n",
    "json_files = [\"r_ansiedad_comments_mayo.jsonl\", \"r_ansiedad_posts_mayo.jsonl\", \"r_Depresion_comments_mayo.jsonl\", \"r_Depresion_posts_mayo.jsonl\"]\n",
    "ansiedad_comments_df = pd.read_json(json_files[0], lines=True)\n",
    "ansiedad_posts_df = pd.read_json(json_files[1], lines=True)\n",
    "depresion_comments_df = pd.read_json(json_files[2], lines=True)\n",
    "depresion_posts_df = pd.read_json(json_files[3], lines=True)"
   ]
  },
  {
   "cell_type": "code",
   "execution_count": 3,
   "metadata": {},
   "outputs": [],
   "source": [
    "#selecting columns\n",
    "\n",
    "posts_columns = [\"subreddit\", \"created_utc\", \"title\", \"selftext\", \"permalink\", \"author\", \"num_comments\", \"id\"]\n",
    "comments_columns = [\"author\", \"body\", \"created_utc\", \"is_submitter\", \"permalink\", \"score\", \"subreddit\", \"id\"]\n",
    "\n",
    "ansiedad_comments_df = ansiedad_comments_df[comments_columns]\n",
    "ansiedad_posts_df = ansiedad_posts_df[posts_columns]\n",
    "depresion_comments_df = depresion_comments_df[comments_columns]\n",
    "depresion_posts_df = depresion_posts_df[posts_columns]\n",
    "\n",
    "df_comments = pd.concat([ansiedad_comments_df, depresion_comments_df], ignore_index=True)\n",
    "df_posts = pd.concat([ansiedad_posts_df, depresion_posts_df], ignore_index=True)\n",
    "df_comments[\"type\"] = \"comment\"\n",
    "df_posts[\"type\"] = \"post\" "
   ]
  },
  {
   "cell_type": "code",
   "execution_count": 4,
   "metadata": {},
   "outputs": [],
   "source": [
    "#rename columns to match\n",
    "name_changing = {\"selftext\" : \"content\",\n",
    "                 \"body\" : \"content\",\n",
    "                 \"title\" : \"title_post\"}\n",
    "\n",
    "df_posts.rename(columns=name_changing, inplace=True)\n",
    "df_comments.rename(columns=name_changing, inplace=True)"
   ]
  },
  {
   "cell_type": "code",
   "execution_count": 5,
   "metadata": {},
   "outputs": [],
   "source": [
    "#Join dfs\n",
    "\n",
    "final_df = pd.concat([df_posts, df_comments], ignore_index=True)"
   ]
  },
  {
   "cell_type": "code",
   "execution_count": 6,
   "metadata": {},
   "outputs": [
    {
     "data": {
      "text/plain": [
       "0      2020-07-09 03:30:23\n",
       "1      2020-07-09 21:05:12\n",
       "2      2020-10-19 19:13:08\n",
       "3      2020-12-11 14:43:55\n",
       "4      2021-01-16 08:19:37\n",
       "               ...        \n",
       "3142   2024-04-11 02:00:06\n",
       "3143   2024-04-14 01:08:53\n",
       "3144   2024-04-20 05:11:15\n",
       "3145   2024-05-07 21:06:52\n",
       "3146   2024-05-18 19:45:41\n",
       "Name: created_utc, Length: 3147, dtype: datetime64[ns]"
      ]
     },
     "execution_count": 6,
     "metadata": {},
     "output_type": "execute_result"
    }
   ],
   "source": [
    "#transform reddit unix timestamp to pandas datetime\n",
    "\n",
    "def unix_to_dt(date):\n",
    "    date = datetime.fromtimestamp(date)\n",
    "    date = pd.to_datetime(date)\n",
    "    return date\n",
    "\n",
    "final_df[\"created_utc\"] = final_df[\"created_utc\"].apply(func=unix_to_dt)\n",
    "final_df[\"created_utc\"]"
   ]
  },
  {
   "cell_type": "code",
   "execution_count": 7,
   "metadata": {},
   "outputs": [],
   "source": [
    "#save to csv\n",
    "\n",
    "final_df.to_csv(\"df_reddit_mentoria.csv\", index=False)"
   ]
  },
  {
   "cell_type": "code",
   "execution_count": 8,
   "metadata": {},
   "outputs": [
    {
     "data": {
      "text/plain": [
       "3147"
      ]
     },
     "execution_count": 8,
     "metadata": {},
     "output_type": "execute_result"
    }
   ],
   "source": [
    "len(final_df)"
   ]
  },
  {
   "cell_type": "code",
   "execution_count": null,
   "metadata": {},
   "outputs": [],
   "source": []
  }
 ],
 "metadata": {
  "kernelspec": {
   "display_name": "base",
   "language": "python",
   "name": "python3"
  },
  "language_info": {
   "codemirror_mode": {
    "name": "ipython",
    "version": 3
   },
   "file_extension": ".py",
   "mimetype": "text/x-python",
   "name": "python",
   "nbconvert_exporter": "python",
   "pygments_lexer": "ipython3",
   "version": "3.9.13"
  }
 },
 "nbformat": 4,
 "nbformat_minor": 2
}
