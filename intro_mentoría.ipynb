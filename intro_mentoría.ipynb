{
 "cells": [
  {
   "cell_type": "markdown",
   "metadata": {},
   "source": [
    "## “¿Alguien para hablar?” Procesamiento de Lenguaje Natural en posteos de foros de ansiedad y depresión."
   ]
  },
  {
   "cell_type": "markdown",
   "metadata": {},
   "source": [
    "### Introducción"
   ]
  },
  {
   "cell_type": "markdown",
   "metadata": {},
   "source": [
    "En este proyecto de mentoría, nos centraremos en analizar conversaciones en foros de depresión y ansiedad de Reddit para comprender mejor cómo las personas se expresan sobre estas condiciones. Utilizaremos técnicas de Procesamiento de Lenguaje Natural y aprendizaje automático para analizar el contenido de posteos y comentarios, y construir modelos de clasificación de texto.\n",
    "\n",
    "Este proyecto permitirá un primer acercamiento a un campo de innovaciones que comienza a surgir a partir del entrecruzamiento de sistemas de Machine Learning y problemáticas vinculadas a la salud mental. Ejemplos de estas iniciativas pueden ser trabajos vinculados al diagnóstico automatizado de enfermedades a través de producciones textuales o el entrenamiento de chatbots terapéuticos.\n"
   ]
  },
  {
   "cell_type": "markdown",
   "metadata": {},
   "source": [
    "### ¿Qué es Reddit?"
   ]
  },
  {
   "cell_type": "markdown",
   "metadata": {},
   "source": [
    "Reddit es una plataforma de redes sociales y un sitio web de agregación de contenido donde los usuarios pueden publicar enlaces, imágenes, videos y textos. Fundado en 2005, Reddit se ha convertido en una de las comunidades en línea más grandes y diversas del mundo. Se organiza en foros temáticos llamados \"subreddits\", cada uno centrado en un tema específico. Los subreddits pueden ser sobre cualquier cosa, desde noticias (r/news), deportes (r/sports), hasta hobbies y nichos específicos (r/datascience, r/machinelearning). Los usuarios pueden crear publicaciones (posts) en los subreddits y otros usuarios pueden comentar en estas publicaciones."
   ]
  },
  {
   "cell_type": "markdown",
   "metadata": {},
   "source": [
    "Para este trabajo nos centraremos en analizar y extraer información de posteos y comentarios realizados en dos subreddit r/Depresion y r/ansiedad. En ambos foros tienen lugar discusiones en español, referidas a los términos que se encuentran en su nombre. Entre nuestros objetivos estará caracterizar de qué se habla en cada uno, qué terminos se utilizan, qué núcleos temáticos podemos reconocer, y estudiar la posibilidad de construir un clasificador de texto que pueda distinguir entre un posteo en r/Depresion y r/ansiedad."
   ]
  },
  {
   "cell_type": "markdown",
   "metadata": {},
   "source": [
    "Si bien los términos de depresión y ansiedad tienen definiciones disciplinares específicas, muchas veces la forma en que las personas los utilizan distan de las descripciones oficiales. Entender de qué hablan los usuarios en estos foros puede ser de utilidad para lograr una mayor comprensión sobre padecimientos psicológicos que sufren un número cada vez más grande de personas."
   ]
  },
  {
   "cell_type": "markdown",
   "metadata": {},
   "source": [
    "### ¿Qué es el Procesamiento de Lenguaje Natural? "
   ]
  },
  {
   "cell_type": "markdown",
   "metadata": {},
   "source": [
    "Es una rama del aprendizaje automático que reune una serie de técnicas vinculadas a la comprensión, el análisis, la clasificación y la generación de texto.\n",
    "\n",
    "**Aplicaciones:**\n",
    "- Traducción Automática\n",
    "- Chatbots o asistentes virtuales\n",
    "- Análisis de Textos\n",
    "- Reconocimiento de Voz\n",
    "\n"
   ]
  },
  {
   "cell_type": "markdown",
   "metadata": {},
   "source": [
    "\n",
    "**Técnicas de curación:**\n",
    "\n",
    "El PLN también supone el uso de herramientas de preprocesado específicas, destinadas a la curación y normalización de datos en formato texto.\n",
    "\n",
    "- Stopword removal\n",
    "- Tokenization\n",
    "- Lemmatization\n",
    "- Stemming"
   ]
  },
  {
   "cell_type": "markdown",
   "metadata": {},
   "source": [
    "**Técnicas de análisis de texto:**\n",
    "\n",
    "- Recuento de términos\n",
    "- n-grams: extracción de secuencias consecutivas de palabras\n",
    "- Sentiment Analysis\n",
    "- Named Entity Recognition\n",
    "- Modelado de Tópicos"
   ]
  },
  {
   "cell_type": "markdown",
   "metadata": {},
   "source": [
    "**Representación de Características de Texto**\n",
    "\n",
    "Una vez curado un dataset, un paso indispensable para llevar adelante técnicas de aprendizaje automático, es convertir nuestros datos de texto no estructurados, en features numéricas capaces de ser incorporadas por nuestros modelos.\n",
    "\n",
    "- Bag of Words: (BOW)\n",
    "\n",
    "- TF-IDF (Term Frequency-Inverse Document Frequency)\n",
    "\n",
    "- Word Embeddings\n",
    "\n",
    "- Outputs de técnicas de modelado de tópicos (LDA, LSA)"
   ]
  },
  {
   "cell_type": "markdown",
   "metadata": {},
   "source": [
    "**Ecosistema:**\n",
    "\n",
    "- HuggingFace: Plataforma que integra el acceso a modelos, conjuntos de datos y espacios para ejecutar y compartir aplicaciones de PLN.\n",
    "\n",
    "- Falta de desarrollo en español: https://somosnlp.org/\n"
   ]
  },
  {
   "cell_type": "code",
   "execution_count": null,
   "metadata": {
    "vscode": {
     "languageId": "plaintext"
    }
   },
   "outputs": [],
   "source": [
    "\n"
   ]
  },
  {
   "cell_type": "markdown",
   "metadata": {},
   "source": []
  }
 ],
 "metadata": {
  "language_info": {
   "name": "python"
  }
 },
 "nbformat": 4,
 "nbformat_minor": 2
}
