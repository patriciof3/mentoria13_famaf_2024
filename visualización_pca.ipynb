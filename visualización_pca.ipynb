{
 "cells": [
  {
   "cell_type": "markdown",
   "metadata": {},
   "source": [
    "# Visualización PCA"
   ]
  },
  {
   "cell_type": "markdown",
   "metadata": {},
   "source": [
    "Está un poco desordenada esta notebook pero les dejo los bloques de código por si quieren probarlo con el output de su preprocesado "
   ]
  },
  {
   "cell_type": "code",
   "execution_count": 1,
   "metadata": {},
   "outputs": [],
   "source": [
    "import pandas as pd\n",
    "from sklearn.feature_extraction.text import TfidfVectorizer\n",
    "from sklearn.feature_extraction.text import CountVectorizer\n",
    "from sklearn.decomposition import PCA\n",
    "import plotly.express as px"
   ]
  },
  {
   "cell_type": "code",
   "execution_count": 4,
   "metadata": {},
   "outputs": [
    {
     "data": {
      "text/html": [
       "<div>\n",
       "<style scoped>\n",
       "    .dataframe tbody tr th:only-of-type {\n",
       "        vertical-align: middle;\n",
       "    }\n",
       "\n",
       "    .dataframe tbody tr th {\n",
       "        vertical-align: top;\n",
       "    }\n",
       "\n",
       "    .dataframe thead th {\n",
       "        text-align: right;\n",
       "    }\n",
       "</style>\n",
       "<table border=\"1\" class=\"dataframe\">\n",
       "  <thead>\n",
       "    <tr style=\"text-align: right;\">\n",
       "      <th></th>\n",
       "      <th>lemmatized_content</th>\n",
       "      <th>cleaned_content</th>\n",
       "      <th>target</th>\n",
       "    </tr>\n",
       "  </thead>\n",
       "  <tbody>\n",
       "    <tr>\n",
       "      <th>0</th>\n",
       "      <td>holar comunidad internetpaso dejar consejo ser...</td>\n",
       "      <td>hola comunidad internetpaso dejar consejo serv...</td>\n",
       "      <td>1</td>\n",
       "    </tr>\n",
       "    <tr>\n",
       "      <th>1</th>\n",
       "      <td>encontrar recurso navegar web parecer útil que...</td>\n",
       "      <td>encontré recurso navegando web pareció útil qu...</td>\n",
       "      <td>1</td>\n",
       "    </tr>\n",
       "    <tr>\n",
       "      <th>2</th>\n",
       "      <td>semana condición logra dormir noche empezar en...</td>\n",
       "      <td>semanas condición logras dormir noches empezó ...</td>\n",
       "      <td>1</td>\n",
       "    </tr>\n",
       "    <tr>\n",
       "      <th>3</th>\n",
       "      <td>semana crisis hipertensivo ver mejora distr...</td>\n",
       "      <td>semanas crisis hipertensiva veía mejora dist...</td>\n",
       "      <td>1</td>\n",
       "    </tr>\n",
       "    <tr>\n",
       "      <th>4</th>\n",
       "      <td>problema ansiedad tiempo cambio siento miedo s...</td>\n",
       "      <td>problemas ansiedad tiempo cambio siento miedo ...</td>\n",
       "      <td>1</td>\n",
       "    </tr>\n",
       "  </tbody>\n",
       "</table>\n",
       "</div>"
      ],
      "text/plain": [
       "                                  lemmatized_content  \\\n",
       "0  holar comunidad internetpaso dejar consejo ser...   \n",
       "1  encontrar recurso navegar web parecer útil que...   \n",
       "2  semana condición logra dormir noche empezar en...   \n",
       "3     semana crisis hipertensivo ver mejora distr...   \n",
       "4  problema ansiedad tiempo cambio siento miedo s...   \n",
       "\n",
       "                                     cleaned_content  target  \n",
       "0  hola comunidad internetpaso dejar consejo serv...       1  \n",
       "1  encontré recurso navegando web pareció útil qu...       1  \n",
       "2  semanas condición logras dormir noches empezó ...       1  \n",
       "3    semanas crisis hipertensiva veía mejora dist...       1  \n",
       "4  problemas ansiedad tiempo cambio siento miedo ...       1  "
      ]
     },
     "execution_count": 4,
     "metadata": {},
     "output_type": "execute_result"
    }
   ],
   "source": [
    "df_classif = df[[\"lemmatized_content\", \"cleaned_content\", \"target\"]]\n",
    "df_classif.head(5)"
   ]
  },
  {
   "cell_type": "markdown",
   "metadata": {},
   "source": [
    "## Vectorización + PCA"
   ]
  },
  {
   "cell_type": "markdown",
   "metadata": {},
   "source": [
    "### Bag of Words"
   ]
  },
  {
   "cell_type": "code",
   "execution_count": 5,
   "metadata": {},
   "outputs": [
    {
     "name": "stderr",
     "output_type": "stream",
     "text": [
      "c:\\Users\\patricio\\anaconda3\\lib\\site-packages\\sklearn\\utils\\deprecation.py:87: FutureWarning: Function get_feature_names is deprecated; get_feature_names is deprecated in 1.0 and will be removed in 1.2. Please use get_feature_names_out instead.\n",
      "  warnings.warn(msg, category=FutureWarning)\n"
     ]
    }
   ],
   "source": [
    "# Bag-of-Words (BoW) Vectorization\n",
    "vectorizer = CountVectorizer(max_features=1000)  # Adjust max_features as needed\n",
    "X_bow = vectorizer.fit_transform(df['lemmatized_content'])\n",
    "\n",
    "# PCA\n",
    "pca = PCA(n_components=3)  # Reduce to 3 principal components for 3D visualization\n",
    "X_pca = pca.fit_transform(X_bow.toarray())\n",
    "\n",
    "# Step 3: Prepare DataFrame for Plotly\n",
    "pca_df = pd.DataFrame(X_pca, columns=['PC1', 'PC2', 'PC3'])\n",
    "pca_df['target'] = df['target']\n",
    "feature_names = vectorizer.get_feature_names()\n",
    "\n",
    "# Add feature names for hover information\n",
    "top_feature_names = []\n",
    "for row in X_bow.toarray():\n",
    "    top_feature_names.append([feature_names[idx] for idx in row.argsort()[-5:]])\n",
    "\n",
    "pca_df['top_features'] = top_feature_names\n",
    "\n",
    "# 3D Scatter Plot\n",
    "fig = px.scatter_3d(\n",
    "    pca_df,\n",
    "    x='PC1',\n",
    "    y='PC2',\n",
    "    z='PC3',\n",
    "    color='target',\n",
    "    hover_data={'top_features': True, 'target': True},\n",
    "    labels={'PC1': 'Principal Component 1', 'PC2': 'Principal Component 2', 'PC3': 'Principal Component 3'},\n",
    "    title='PCA - BoW'\n",
    ")\n",
    "\n",
    "fig.show(renderer = 'browser')"
   ]
  },
  {
   "cell_type": "markdown",
   "metadata": {},
   "source": [
    "### TF-IDF"
   ]
  },
  {
   "cell_type": "markdown",
   "metadata": {},
   "source": [
    "Con data sin lematizar"
   ]
  },
  {
   "cell_type": "code",
   "execution_count": 13,
   "metadata": {},
   "outputs": [],
   "source": [
    "import pandas as pd\n",
    "from sklearn.feature_extraction.text import TfidfVectorizer\n",
    "from sklearn.decomposition import PCA\n",
    "import plotly.express as px\n",
    "\n",
    "# Assuming df is your DataFrame with \"cleaned_content\" and \"target\" columns\n",
    "\n",
    "# Step 1: TF-IDF Vectorization\n",
    "vectorizer = TfidfVectorizer(max_features=1000)  # Adjust max_features as needed\n",
    "X_tfidf = vectorizer.fit_transform(df['cleaned_content'])\n",
    "\n",
    "# Step 2: PCA\n",
    "pca = PCA(n_components=3)  # Reduce to 3 principal components for 3D visualization\n",
    "X_pca = pca.fit_transform(X_tfidf.toarray())\n",
    "\n",
    "# Step 3: Prepare DataFrame for Plotly\n",
    "pca_df = pd.DataFrame(X_pca, columns=['PC1', 'PC2', 'PC3'])\n",
    "pca_df['target'] = df['target']\n",
    "feature_names = vectorizer.get_feature_names_out()\n",
    "\n",
    "# Add feature names for hover information\n",
    "top_feature_names = []\n",
    "for row in X_tfidf.toarray():\n",
    "    top_feature_names.append([feature_names[idx] for idx in row.argsort()[-5:]])\n",
    "\n",
    "pca_df['top_features'] = top_feature_names\n",
    "\n",
    "# Step 4: Create Plotly 3D Scatter Plot\n",
    "fig = px.scatter_3d(\n",
    "    pca_df,\n",
    "    x='PC1',\n",
    "    y='PC2',\n",
    "    z='PC3',\n",
    "    color='target',\n",
    "    hover_data={'top_features': True, 'target': True},\n",
    "    labels={'PC1': 'Principal Component 1', 'PC2': 'Principal Component 2', 'PC3': 'Principal Component 3'},\n",
    "    title='PCA - TF-IDF - cleaned_content'\n",
    ")\n",
    "\n",
    "fig.show(renderer='browser')"
   ]
  },
  {
   "cell_type": "markdown",
   "metadata": {},
   "source": [
    "Con data lematizada"
   ]
  },
  {
   "cell_type": "code",
   "execution_count": 6,
   "metadata": {},
   "outputs": [],
   "source": [
    "import pandas as pd\n",
    "from sklearn.feature_extraction.text import TfidfVectorizer\n",
    "from sklearn.decomposition import PCA\n",
    "import plotly.express as px\n",
    "\n",
    "# Assuming df is your DataFrame with \"cleaned_content\" and \"target\" columns\n",
    "\n",
    "# Step 1: TF-IDF Vectorization\n",
    "vectorizer = TfidfVectorizer(max_features=1000)  # Adjust max_features as needed\n",
    "X_tfidf = vectorizer.fit_transform(df['lemmatized_content'])\n",
    "\n",
    "# Step 2: PCA\n",
    "pca = PCA(n_components=3)  # Reduce to 3 principal components for 3D visualization\n",
    "X_pca = pca.fit_transform(X_tfidf.toarray())\n",
    "\n",
    "# Step 3: Prepare DataFrame for Plotly\n",
    "pca_df = pd.DataFrame(X_pca, columns=['PC1', 'PC2', 'PC3'])\n",
    "pca_df['target'] = df['target']\n",
    "feature_names = vectorizer.get_feature_names_out()\n",
    "\n",
    "# Add feature names for hover information\n",
    "top_feature_names = []\n",
    "for row in X_tfidf.toarray():\n",
    "    top_feature_names.append([feature_names[idx] for idx in row.argsort()[-5:]])\n",
    "\n",
    "pca_df['top_features'] = top_feature_names\n",
    "\n",
    "# Step 4: Create Plotly 3D Scatter Plot\n",
    "fig = px.scatter_3d(\n",
    "    pca_df,\n",
    "    x='PC1',\n",
    "    y='PC2',\n",
    "    z='PC3',\n",
    "    color='target',\n",
    "    hover_data={'top_features': True, 'target': True},\n",
    "    labels={'PC1': 'Principal Component 1', 'PC2': 'Principal Component 2', 'PC3': 'Principal Component 3'},\n",
    "    title='PCA - TF-IDF - lemmatized_content'\n",
    ")\n",
    "\n",
    "fig.show(renderer='browser')"
   ]
  }
 ],
 "metadata": {
  "kernelspec": {
   "display_name": "base",
   "language": "python",
   "name": "python3"
  },
  "language_info": {
   "codemirror_mode": {
    "name": "ipython",
    "version": 3
   },
   "file_extension": ".py",
   "mimetype": "text/x-python",
   "name": "python",
   "nbconvert_exporter": "python",
   "pygments_lexer": "ipython3",
   "version": "3.9.13"
  }
 },
 "nbformat": 4,
 "nbformat_minor": 2
}
